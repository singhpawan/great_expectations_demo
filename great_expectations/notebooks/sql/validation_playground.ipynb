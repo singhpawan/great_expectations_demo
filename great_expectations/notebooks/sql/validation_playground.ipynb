{
 "cells": [
  {
   "cell_type": "markdown",
   "metadata": {},
   "source": [
    "# Validation Playground\n",
    "\n",
    "**Watch** a [short tutorial video](https://greatexpectations.io/videos/getting_started/integrate_expectations) or **read** [the written tutorial](https://docs.greatexpectations.io/en/latest/tutorials/validate_data.html?utm_source=notebook&utm_medium=validate_data)\n",
    "\n",
    "#### This notebook assumes that you created at least one expectation suite in your project.\n",
    "#### Here you will learn how to validate data in a SQL database against an expectation suite.\n",
    "\n",
    "\n",
    "We'd love it if you **reach out for help on** the [**Great Expectations Slack Channel**](https://greatexpectations.io/slack)"
   ]
  },
  {
   "cell_type": "code",
   "execution_count": 1,
   "metadata": {},
   "outputs": [
    {
     "name": "stdout",
     "output_type": "stream",
     "text": [
      "2020-02-27T15:11:46-0800 - INFO - Great Expectations logging enabled at INFO level by JupyterUX module.\n"
     ]
    }
   ],
   "source": [
    "import json\n",
    "import great_expectations as ge\n",
    "import great_expectations.jupyter_ux\n",
    "from great_expectations.datasource.types import BatchKwargs\n",
    "from datetime import datetime"
   ]
  },
  {
   "cell_type": "markdown",
   "metadata": {},
   "source": [
    "## 1. Get a DataContext\n",
    "This represents your **project** that you just created using `great_expectations init`."
   ]
  },
  {
   "cell_type": "code",
   "execution_count": 2,
   "metadata": {},
   "outputs": [],
   "source": [
    "context = ge.data_context.DataContext()"
   ]
  },
  {
   "cell_type": "markdown",
   "metadata": {},
   "source": [
    "## 2. Choose an Expectation Suite\n"
   ]
  },
  {
   "cell_type": "code",
   "execution_count": 3,
   "metadata": {},
   "outputs": [
    {
     "name": "stdout",
     "output_type": "stream",
     "text": [
      "state_abbreviations_file.critical\n",
      "count_providers_by_state.critical\n",
      "npi_small_file.critical\n",
      "npi_small_db_table.critical\n"
     ]
    }
   ],
   "source": [
    "# list expectation suites that you created in your project\n",
    "\n",
    "for expectation_suite_id in context.list_expectation_suites():\n",
    "    print(expectation_suite_id.expectation_suite_name)"
   ]
  },
  {
   "cell_type": "code",
   "execution_count": 10,
   "metadata": {},
   "outputs": [],
   "source": [
    "expectation_suite_name_file = \"npi_small_file.critical\" # TODO: set to a name from the list above"
   ]
  },
  {
   "cell_type": "markdown",
   "metadata": {},
   "source": [
    "## 3. Load a batch of data you want to validate\n",
    "\n",
    "To learn more about `get_batch`, see [this tutorial](https://docs.greatexpectations.io/en/latest/tutorials/validate_data.html?utm_source=notebook&utm_medium=validate_data#load-a-batch-of-data-to-validate)\n"
   ]
  },
  {
   "cell_type": "code",
   "execution_count": 11,
   "metadata": {},
   "outputs": [
    {
     "data": {
      "text/plain": [
       "['datawarehouse', 'input_files']"
      ]
     },
     "execution_count": 11,
     "metadata": {},
     "output_type": "execute_result"
    }
   ],
   "source": [
    "# list datasources of the type SqlAlchemyDatasource in your project\n",
    "[datasource['name'] for datasource in context.list_datasources()]"
   ]
  },
  {
   "cell_type": "code",
   "execution_count": 12,
   "metadata": {},
   "outputs": [],
   "source": [
    "datasource_name_file = \"input_files\"# TODO: set to a datasource name from above"
   ]
  },
  {
   "cell_type": "code",
   "execution_count": 14,
   "metadata": {},
   "outputs": [
    {
     "data": {
      "text/html": [
       "<div>\n",
       "<style scoped>\n",
       "    .dataframe tbody tr th:only-of-type {\n",
       "        vertical-align: middle;\n",
       "    }\n",
       "\n",
       "    .dataframe tbody tr th {\n",
       "        vertical-align: top;\n",
       "    }\n",
       "\n",
       "    .dataframe thead th {\n",
       "        text-align: right;\n",
       "    }\n",
       "</style>\n",
       "<table border=\"1\" class=\"dataframe\">\n",
       "  <thead>\n",
       "    <tr style=\"text-align: right;\">\n",
       "      <th></th>\n",
       "      <th>NPI</th>\n",
       "      <th>Entity_Type_Code</th>\n",
       "      <th>Organization_Name</th>\n",
       "      <th>Last_Name</th>\n",
       "      <th>First_Name</th>\n",
       "      <th>State</th>\n",
       "      <th>Taxonomy_Code</th>\n",
       "    </tr>\n",
       "  </thead>\n",
       "  <tbody>\n",
       "    <tr>\n",
       "      <th>0</th>\n",
       "      <td>1457900839</td>\n",
       "      <td>2.0</td>\n",
       "      <td>TEXAS CLINIC OF CHIROPRACTIC</td>\n",
       "      <td>NaN</td>\n",
       "      <td>NaN</td>\n",
       "      <td>TX</td>\n",
       "      <td>111N00000X</td>\n",
       "    </tr>\n",
       "    <tr>\n",
       "      <th>1</th>\n",
       "      <td>1255519047</td>\n",
       "      <td>1.0</td>\n",
       "      <td>NaN</td>\n",
       "      <td>BRYANT-JONES</td>\n",
       "      <td>MARIA</td>\n",
       "      <td>FL</td>\n",
       "      <td>261QH0700X</td>\n",
       "    </tr>\n",
       "    <tr>\n",
       "      <th>2</th>\n",
       "      <td>1366091746</td>\n",
       "      <td>1.0</td>\n",
       "      <td>NaN</td>\n",
       "      <td>JONES</td>\n",
       "      <td>EBONY</td>\n",
       "      <td>DC</td>\n",
       "      <td>3747P1801X</td>\n",
       "    </tr>\n",
       "    <tr>\n",
       "      <th>3</th>\n",
       "      <td>1275182651</td>\n",
       "      <td>1.0</td>\n",
       "      <td>NaN</td>\n",
       "      <td>ORNELAS</td>\n",
       "      <td>LUPE</td>\n",
       "      <td>CA</td>\n",
       "      <td>101YA0400X</td>\n",
       "    </tr>\n",
       "    <tr>\n",
       "      <th>4</th>\n",
       "      <td>1194371344</td>\n",
       "      <td>1.0</td>\n",
       "      <td>NaN</td>\n",
       "      <td>WINTERS</td>\n",
       "      <td>STACY</td>\n",
       "      <td>MD</td>\n",
       "      <td>363L00000X</td>\n",
       "    </tr>\n",
       "  </tbody>\n",
       "</table>\n",
       "</div>"
      ],
      "text/plain": [
       "          NPI  Entity_Type_Code             Organization_Name     Last_Name  \\\n",
       "0  1457900839               2.0  TEXAS CLINIC OF CHIROPRACTIC           NaN   \n",
       "1  1255519047               1.0                           NaN  BRYANT-JONES   \n",
       "2  1366091746               1.0                           NaN         JONES   \n",
       "3  1275182651               1.0                           NaN       ORNELAS   \n",
       "4  1194371344               1.0                           NaN       WINTERS   \n",
       "\n",
       "  First_Name State Taxonomy_Code  \n",
       "0        NaN    TX    111N00000X  \n",
       "1      MARIA    FL    261QH0700X  \n",
       "2      EBONY    DC    3747P1801X  \n",
       "3       LUPE    CA    101YA0400X  \n",
       "4      STACY    MD    363L00000X  "
      ]
     },
     "execution_count": 14,
     "metadata": {},
     "output_type": "execute_result"
    }
   ],
   "source": [
    "batch_kwargs_file = {\"path\": '/Users/eugenemandel/projects/ge_tutorials/data/npi_small.csv', 'datasource': datasource_name_file}\n",
    "batch_file = context.get_batch(batch_kwargs_file, expectation_suite_name_file)\n",
    "batch_file.head()"
   ]
  },
  {
   "cell_type": "code",
   "execution_count": 17,
   "metadata": {},
   "outputs": [
    {
     "name": "stdout",
     "output_type": "stream",
     "text": [
      "2020-02-27T15:17:22-0800 - INFO - \t3 expectation(s) included in expectation_suite.\n"
     ]
    },
    {
     "data": {
      "text/html": [
       "<div>\n",
       "<style scoped>\n",
       "    .dataframe tbody tr th:only-of-type {\n",
       "        vertical-align: middle;\n",
       "    }\n",
       "\n",
       "    .dataframe tbody tr th {\n",
       "        vertical-align: top;\n",
       "    }\n",
       "\n",
       "    .dataframe thead th {\n",
       "        text-align: right;\n",
       "    }\n",
       "</style>\n",
       "<table border=\"1\" class=\"dataframe\">\n",
       "  <thead>\n",
       "    <tr style=\"text-align: right;\">\n",
       "      <th></th>\n",
       "      <th>npi</th>\n",
       "      <th>entity_type_code</th>\n",
       "      <th>organization_name</th>\n",
       "      <th>last_name</th>\n",
       "      <th>first_name</th>\n",
       "      <th>state</th>\n",
       "      <th>taxonomy_code</th>\n",
       "    </tr>\n",
       "  </thead>\n",
       "  <tbody>\n",
       "    <tr>\n",
       "      <th>0</th>\n",
       "      <td>1457900839</td>\n",
       "      <td>2.0</td>\n",
       "      <td>TEXAS CLINIC OF CHIROPRACTIC</td>\n",
       "      <td>None</td>\n",
       "      <td>None</td>\n",
       "      <td>TX</td>\n",
       "      <td>111N00000X</td>\n",
       "    </tr>\n",
       "    <tr>\n",
       "      <th>1</th>\n",
       "      <td>1255519047</td>\n",
       "      <td>1.0</td>\n",
       "      <td>None</td>\n",
       "      <td>BRYANT-JONES</td>\n",
       "      <td>MARIA</td>\n",
       "      <td>FL</td>\n",
       "      <td>261QH0700X</td>\n",
       "    </tr>\n",
       "    <tr>\n",
       "      <th>2</th>\n",
       "      <td>1366091746</td>\n",
       "      <td>1.0</td>\n",
       "      <td>None</td>\n",
       "      <td>JONES</td>\n",
       "      <td>EBONY</td>\n",
       "      <td>DC</td>\n",
       "      <td>3747P1801X</td>\n",
       "    </tr>\n",
       "    <tr>\n",
       "      <th>3</th>\n",
       "      <td>1275182651</td>\n",
       "      <td>1.0</td>\n",
       "      <td>None</td>\n",
       "      <td>ORNELAS</td>\n",
       "      <td>LUPE</td>\n",
       "      <td>CA</td>\n",
       "      <td>101YA0400X</td>\n",
       "    </tr>\n",
       "    <tr>\n",
       "      <th>4</th>\n",
       "      <td>1194371344</td>\n",
       "      <td>1.0</td>\n",
       "      <td>None</td>\n",
       "      <td>WINTERS</td>\n",
       "      <td>STACY</td>\n",
       "      <td>MD</td>\n",
       "      <td>363L00000X</td>\n",
       "    </tr>\n",
       "  </tbody>\n",
       "</table>\n",
       "</div>"
      ],
      "text/plain": [
       "          npi  entity_type_code             organization_name     last_name  \\\n",
       "0  1457900839               2.0  TEXAS CLINIC OF CHIROPRACTIC          None   \n",
       "1  1255519047               1.0                          None  BRYANT-JONES   \n",
       "2  1366091746               1.0                          None         JONES   \n",
       "3  1275182651               1.0                          None       ORNELAS   \n",
       "4  1194371344               1.0                          None       WINTERS   \n",
       "\n",
       "  first_name state taxonomy_code  \n",
       "0       None    TX    111N00000X  \n",
       "1      MARIA    FL    261QH0700X  \n",
       "2      EBONY    DC    3747P1801X  \n",
       "3       LUPE    CA    101YA0400X  \n",
       "4      STACY    MD    363L00000X  "
      ]
     },
     "execution_count": 17,
     "metadata": {},
     "output_type": "execute_result"
    }
   ],
   "source": [
    "expectation_suite_name_db = \"npi_small_db_table.critical\"\n",
    "datasource_name_file_db = \"datawarehouse\"\n",
    "\n",
    "\n",
    "# If you would like to validate an entire table or view in your database's default schema:\n",
    "batch_kwargs_db = {'table': \"npi_small\", 'datasource': datasource_name_file_db}\n",
    "\n",
    "# # If you would like to validate an entire table or view from a non-default schema in your database:\n",
    "# batch_kwargs = {'table': \"YOUR_TABLE\", \"schema\": \"YOUR_SCHEMA\", 'datasource': datasource_name}\n",
    "\n",
    "# If you would like to validate the result set of a query:\n",
    "# batch_kwargs = {'query': 'SELECT YOUR_ROWS FROM YOUR_TABLE', 'datasource': datasource_name}\n",
    "\n",
    "\n",
    "\n",
    "batch_db = context.get_batch(batch_kwargs_db, expectation_suite_name_db)\n",
    "batch_db.head()"
   ]
  },
  {
   "cell_type": "markdown",
   "metadata": {},
   "source": [
    "## 4. Validate the batch\n",
    "\n",
    "[Read more about the validate method in the tutorial](https://docs.greatexpectations.io/en/latest/tutorials/validate_data.html?utm_source=notebook&utm_medium=validate_data#validate-the-batch)\n"
   ]
  },
  {
   "cell_type": "code",
   "execution_count": 18,
   "metadata": {},
   "outputs": [],
   "source": [
    "# validation_result = batch.validate()\n",
    "\n",
    "# if validation_result[\"success\"]:\n",
    "#     print(\"This data meets all expectations in {}\".format(expectation_suite_name))\n",
    "# else:\n",
    "#     print(\"This data does not meet some expectations in {}\".format(expectation_suite_name))"
   ]
  },
  {
   "cell_type": "markdown",
   "metadata": {},
   "source": [
    "## 4.a. OPTIONAL: Review the JSON validation results\n",
    "\n",
    "Don't worry - this blob of JSON is meant for machines. Continue on or skip this to see this in Data Docs!"
   ]
  },
  {
   "cell_type": "code",
   "execution_count": null,
   "metadata": {},
   "outputs": [],
   "source": [
    "#validation_result"
   ]
  },
  {
   "cell_type": "markdown",
   "metadata": {},
   "source": [
    "## 5. Validation Operators\n",
    "\n",
    "The `validate` method evaluates one batch of data against one expectation suite and returns a dictionary of validation results. This is sufficient when you explore your data and get to know Great Expectations.\n",
    "When deploying Great Expectations in a **real data pipeline, you will typically discover additional needs**:\n",
    "\n",
    "* validating a group of batches that are logically related\n",
    "* validating a batch against several expectation suites such as using a tiered pattern like `warning` and `failure`\n",
    "* doing something with the validation results (e.g., saving them for a later review, sending notifications in case of failures, etc.).\n",
    "\n",
    "`Validation Operators` provide a convenient abstraction for both bundling the validation of multiple expectation suites and the actions that should be taken after the validation.\n",
    "\n",
    "[Read more about Validation Operators in the tutorial](https://docs.greatexpectations.io/en/latest/tutorials/validate_data.html?utm_source=notebook&utm_medium=validate_data#save-validation-results)"
   ]
  },
  {
   "cell_type": "code",
   "execution_count": 20,
   "metadata": {},
   "outputs": [
    {
     "name": "stdout",
     "output_type": "stream",
     "text": [
      "2020-02-27T15:19:26-0800 - INFO - \t6 expectation(s) included in expectation_suite.\n",
      "2020-02-27T15:19:26-0800 - WARNING - Validation result not found: ('npi_small_db_table', 'critical', '20200227T225853.485975Z', 'c68f8e0d0a56d8cb6aac9f75e5eeba11') - skipping\n",
      "2020-02-27T15:19:27-0800 - WARNING - Validation result not found: ('npi_small_file', 'critical', '20200227T225204.398203Z', '629439ac2df38aeaf25cb6da455e36cd') - skipping\n",
      "2020-02-27T15:19:27-0800 - WARNING - Validation result not found: ('state_abbreviations_file', 'critical', '20200227T223925.335941Z', 'e6aa962d284ec3f285089388c9b59053') - skipping\n",
      "2020-02-27T15:19:27-0800 - WARNING - Validation result not found: ('npi_small_file', 'critical', '20200227T223841.075647Z', '629439ac2df38aeaf25cb6da455e36cd') - skipping\n",
      "2020-02-27T15:19:27-0800 - WARNING - Validation result not found: ('npi_small_file', 'critical', '2020-02-27T231751.053073Z', '954633452d7145840b0ec46816809386') - skipping\n",
      "2020-02-27T15:19:27-0800 - WARNING - Validation result not found: ('npi_small_db_table', 'critical', '2020-02-27T231751.053073Z', '00d719a91eb689a5f59901fd473c3c24') - skipping\n",
      "2020-02-27T15:19:27-0800 - INFO - \t3 expectation(s) included in expectation_suite.\n",
      "2020-02-27T15:19:27-0800 - WARNING - Validation result not found: ('npi_small_db_table', 'critical', '20200227T225853.485975Z', 'c68f8e0d0a56d8cb6aac9f75e5eeba11') - skipping\n",
      "2020-02-27T15:19:27-0800 - WARNING - Validation result not found: ('npi_small_file', 'critical', '20200227T225204.398203Z', '629439ac2df38aeaf25cb6da455e36cd') - skipping\n",
      "2020-02-27T15:19:27-0800 - WARNING - Validation result not found: ('state_abbreviations_file', 'critical', '20200227T223925.335941Z', 'e6aa962d284ec3f285089388c9b59053') - skipping\n",
      "2020-02-27T15:19:27-0800 - WARNING - Validation result not found: ('npi_small_file', 'critical', '20200227T223841.075647Z', '629439ac2df38aeaf25cb6da455e36cd') - skipping\n",
      "2020-02-27T15:19:27-0800 - WARNING - Validation result not found: ('npi_small_file', 'critical', '2020-02-27T231751.053073Z', '954633452d7145840b0ec46816809386') - skipping\n",
      "2020-02-27T15:19:27-0800 - WARNING - Validation result not found: ('npi_small_db_table', 'critical', '2020-02-27T231751.053073Z', '00d719a91eb689a5f59901fd473c3c24') - skipping\n"
     ]
    }
   ],
   "source": [
    "# This is an example of invoking a validation operator that is configured by default in the great_expectations.yml file\n",
    "\n",
    "#Generate a run id, a timestamp, or a meaningful string that will help you refer to validation results. We recommend they be chronologically sortable.\n",
    "# Let's make a simple sortable timestamp. Note this could come from your pipeline runner (e.g., Airflow run id).\n",
    "run_id = datetime.utcnow().isoformat().replace(\":\", \"\") + \"Z\"\n",
    "\n",
    "results = context.run_validation_operator(\n",
    "    \"action_list_operator\", \n",
    "    assets_to_validate=[batch_file, batch_db], \n",
    "    run_id=run_id)\n",
    "\n"
   ]
  },
  {
   "cell_type": "markdown",
   "metadata": {},
   "source": [
    "## 6. View the Validation Results in Data Docs\n",
    "\n",
    "Let's now build and look at your Data Docs. These will now include an **data quality report** built from the `ValidationResults` you just created that helps you communicate about your data with both machines and humans.\n",
    "\n",
    "[Read more about Data Docs in the tutorial](https://docs.greatexpectations.io/en/latest/tutorials/validate_data.html?utm_source=notebook&utm_medium=validate_data#view-the-validation-results-in-data-docs)"
   ]
  },
  {
   "cell_type": "code",
   "execution_count": null,
   "metadata": {},
   "outputs": [],
   "source": [
    "context.open_data_docs()"
   ]
  },
  {
   "cell_type": "markdown",
   "metadata": {},
   "source": [
    "## Congratulations! You ran Validations!\n",
    "\n",
    "## Next steps:\n",
    "\n",
    "### 1. Read about the typical workflow with Great Expectations:\n",
    "\n",
    "[typical workflow](https://docs.greatexpectations.io/en/latest/getting_started/typical_workflow.html?utm_source=notebook&utm_medium=validate_data#view-the-validation-results-in-data-docs)\n",
    "\n",
    "### 2. Explore the documentation & community\n",
    "\n",
    "You are now among the elite data professionals who know how to build robust descriptions of your data and protections for pipelines and machine learning models. Join the [**Great Expectations Slack Channel**](https://greatexpectations.io/slack) to see how others are wielding these superpowers."
   ]
  },
  {
   "cell_type": "code",
   "execution_count": null,
   "metadata": {},
   "outputs": [],
   "source": []
  }
 ],
 "metadata": {
  "kernelspec": {
   "display_name": "Python 3",
   "language": "python",
   "name": "python3"
  },
  "language_info": {
   "codemirror_mode": {
    "name": "ipython",
    "version": 3
   },
   "file_extension": ".py",
   "mimetype": "text/x-python",
   "name": "python",
   "nbconvert_exporter": "python",
   "pygments_lexer": "ipython3",
   "version": "3.7.0"
  },
  "pycharm": {
   "stem_cell": {
    "cell_type": "raw",
    "metadata": {
     "collapsed": false
    },
    "source": []
   }
  }
 },
 "nbformat": 4,
 "nbformat_minor": 4
}
